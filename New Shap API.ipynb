{
 "cells": [
  {
   "cell_type": "code",
   "execution_count": 15,
   "id": "0e264471-f40f-4368-b0f9-4ed52298db7e",
   "metadata": {},
   "outputs": [],
   "source": [
    "import sklearn\n",
    "import shap\n",
    "import numpy as np\n",
    "import pandas as pd\n",
    "#Evalutation metrics\n",
    "from sklearn.metrics import accuracy_score, balanced_accuracy_score, f1_score\n",
    "#Keeping track of time\n",
    "from fastprogress.fastprogress import progress_bar\n",
    "import matplotlib as plt\n",
    "import copy\n"
   ]
  },
  {
   "cell_type": "code",
   "execution_count": 3,
   "id": "36406694-8551-47a3-83b4-e6fb211cd54b",
   "metadata": {},
   "outputs": [],
   "source": [
    "#Churn dataset\n",
    "url = 'https://github.com/EpistasisLab/pmlb/blob/master/datasets/churn/churn.tsv.gz?raw=true'\n",
    "churn = pd.read_csv(url, compression='gzip', \n",
    "                                 header=0, sep = '\\t', quotechar='\"')\n",
    "\n",
    "split = sklearn.model_selection.train_test_split(churn, shuffle=True)\n",
    "X = split[0].drop('target', axis = 1)\n",
    "Y = split[0].iloc[:, -1]\n",
    "x = split[1].drop('target', axis = 1)\n",
    "y = split[1].iloc[:, -1]\n",
    "\n",
    "#This data comes from:\n",
    "#Le, Trang T., William La Cava, Joseph D. Romano, John T. Gregg, Daniel J. Goldberg, Praneel Chakraborty, \n",
    "#Natasha L. Ray, Daniel Himmelstein, Weixuan Fu, and Jason H. Moore. \n",
    "#PMLB v1. 0: an open source dataset collection for benchmarking machine learning methods. arXiv preprint arXiv:2012.00058 (2020)\n"
   ]
  },
  {
   "cell_type": "code",
   "execution_count": null,
   "id": "cb16cec7-97a1-4dc8-88ab-4669d99d883a",
   "metadata": {},
   "outputs": [],
   "source": [
    "clf = sklearn.ensemble.RandomForestClassifier()\n",
    "clf = clf.fit(X,Y)\n",
    "expl = shap.explainers.Tree(clf, X)\n",
    "shap_vals = expl(x, check_additivity=False)\n",
    "shap_vals[...,1]"
   ]
  },
  {
   "cell_type": "code",
   "execution_count": 7,
   "id": "9593c141-6f67-4067-9212-15aca57194b3",
   "metadata": {
    "tags": []
   },
   "outputs": [
    {
     "data": {
      "text/plain": [
       "array([ 2,  0, 14,  8, 11,  1,  3, 16, 15, 18, 13,  6,  5, 17, 10, 12,  4,\n",
       "        9,  7, 19])"
      ]
     },
     "execution_count": 7,
     "metadata": {},
     "output_type": "execute_result"
    }
   ],
   "source": [
    "# explainer = shap.explainers.Permutation(clf.predict, X)\n",
    "# values = explainer(x)\n",
    "# print(np.mean(values.values[...,1], axis = 0))\n",
    "ranks = np.argsort(np.mean(np.abs(shap_vals.values[:,:,1]), axis = 0))\n",
    "int(np.round(len(ranks)*0.10))\n",
    "ranks[len(ranks)-2:len(ranks)]\n",
    "ranks"
   ]
  },
  {
   "cell_type": "code",
   "execution_count": 8,
   "id": "5920bc6d-fe53-4f85-9663-70d05ea97405",
   "metadata": {},
   "outputs": [],
   "source": [
    "def train(clf, X, Y):\n",
    "    accu = np.array([])\n",
    "    accu_balanced = np.array([])\n",
    "    f1 = np.array([])\n",
    "    #Iterate through the datasets and retrain for each\n",
    "    temp = copy.deepcopy(clf)\n",
    "\n",
    "    #Fit model\n",
    "    temp.fit(X, Y)\n",
    "    \n",
    "    return temp"
   ]
  },
  {
   "cell_type": "code",
   "execution_count": 9,
   "id": "82a0a499-0ec5-4aab-89c1-829b760bb4f2",
   "metadata": {},
   "outputs": [],
   "source": [
    "def metrics(clf, x, y):   \n",
    "    #Get metrics: \n",
    "    yhat = clf.predict(x)\n",
    "\n",
    "    accu = accuracy_score(y, yhat)\n",
    "    accu_balanced = balanced_accuracy_score(y, yhat)\n",
    "    f1 = f1_score(y, yhat)\n",
    "        \n",
    "    return np.array([[accu], [accu_balanced], [f1]])"
   ]
  },
  {
   "cell_type": "code",
   "execution_count": 10,
   "id": "8ce6cd24-8c85-46f8-a11a-167668aaf687",
   "metadata": {},
   "outputs": [],
   "source": [
    "def explain(clf, X, x, explainer = shap.explainers.Permutation):\n",
    "    if explainer != shap.explainers.Tree:\n",
    "        # #Build Explanation\n",
    "        explanation = explainer(clf.predict, X)\n",
    "        shap_values = explanation(x)\n",
    "    else:\n",
    "        # #Build Explanation\n",
    "        explanation = explainer(clf, X)\n",
    "        shap_values = explanation(x, check_additivity = False)\n",
    "    #Get SHAP values for positive class\n",
    "    shap_values = shap_values.values[...,1]\n",
    "    shap_values = np.abs(shap_values)\n",
    "    shap_values = np.mean(shap_values, axis= 0)\n",
    "    #Get ranks\n",
    "    ranks = np.argsort(shap_values)\n",
    "    ranks\n",
    "    return ranks"
   ]
  },
  {
   "cell_type": "code",
   "execution_count": 21,
   "id": "a87421e7",
   "metadata": {},
   "outputs": [
    {
     "data": {
      "text/plain": [
       "array([[0.],\n",
       "       [0.],\n",
       "       [0.]])"
      ]
     },
     "execution_count": 21,
     "metadata": {},
     "output_type": "execute_result"
    }
   ],
   "source": [
    "np.zeros((3,1))"
   ]
  },
  {
   "cell_type": "code",
   "execution_count": 22,
   "id": "fdd8b007-60b9-4de4-b467-23b64abb498b",
   "metadata": {
    "tags": []
   },
   "outputs": [
    {
     "data": {
      "text/plain": [
       "array([[0.        , 0.9512    , 0.9544    , 0.9512    , 0.9544    ,\n",
       "        0.944     , 0.9384    , 0.9024    , 0.8384    , 0.8224    ,\n",
       "        0.8632    ],\n",
       "       [0.        , 0.84624327, 0.86039976, 0.85116444, 0.85793918,\n",
       "        0.83715158, 0.83636842, 0.76138291, 0.68740278, 0.65106851,\n",
       "        0.5       ],\n",
       "       [0.        , 0.79734219, 0.81433225, 0.8       , 0.81311475,\n",
       "        0.77124183, 0.75555556, 0.61392405, 0.44808743, 0.39010989,\n",
       "        0.        ]])"
      ]
     },
     "execution_count": 22,
     "metadata": {},
     "output_type": "execute_result"
    }
   ],
   "source": [
    "## Mask top features\n",
    "def remove_top(t, rankings, X, Y, x, y, clf, base = np.empty((3,1))):\n",
    "    \n",
    "    #Make copies of our data to modify\n",
    "    X_train = copy.deepcopy(X)\n",
    "    x_test = copy.deepcopy(x)\n",
    "    results = copy.deepcopy(base)\n",
    "\n",
    "    #Set masking schedule\n",
    "    j = int(np.round(len(rankings)*t))\n",
    "    i = 0\n",
    "    k = j\n",
    "    \n",
    "    #Mask and retrain\n",
    "    while k <= len(rankings)+1:\n",
    "        #Mask\n",
    "        X_train.iloc[:, rankings[i:k]] = X_train.iloc[:, rankings[i:k]].mean()\n",
    "        x_test.iloc[:, rankings[i:k]] = x_test.iloc[:, rankings[i:k]].mean() \n",
    "        #Retrain\n",
    "        model = train(clf, X_train, Y)\n",
    "        results =  np.hstack((results, metrics(model, x_test, y)))\n",
    "        \n",
    "        #Move iterator forward\n",
    "        i += j\n",
    "        k += j\n",
    "\n",
    "    return results\n",
    "\n",
    "remove_top(0.10, ranks, X, Y, x, y, clf)"
   ]
  },
  {
   "cell_type": "code",
   "execution_count": 23,
   "id": "acf3534a-3740-4d02-9f7d-e35c05997bdb",
   "metadata": {},
   "outputs": [
    {
     "data": {
      "text/plain": [
       "array([[0.8632    , 0.9272    , 0.8624    , 0.8608    , 0.8624    ,\n",
       "        0.8624    , 0.8616    , 0.8624    , 0.8544    , 0.8616    ,\n",
       "        0.8632    ],\n",
       "       [0.5       , 0.73637871, 0.49953661, 0.49860982, 0.49953661,\n",
       "        0.49953661, 0.49907322, 0.49953661, 0.50474503, 0.50645497,\n",
       "        0.5       ],\n",
       "       [0.        , 0.64031621, 0.        , 0.        , 0.        ,\n",
       "        0.        , 0.        , 0.        , 0.04210526, 0.03351955,\n",
       "        0.        ]])"
      ]
     },
     "execution_count": 23,
     "metadata": {},
     "output_type": "execute_result"
    }
   ],
   "source": [
    "## Mask bottom features\n",
    "def remove_bottom(t, rankings, X, Y, x, y, clf, base = np.empty((3,1))):\n",
    "    #Make copies of our data to modify\n",
    "    X_train = copy.deepcopy(X)\n",
    "    x_test = copy.deepcopy(x)\n",
    "    results = copy.deepcopy(base)\n",
    "    \n",
    "    \n",
    "    #Set masking schedule\n",
    "    j = int(np.round(len(rankings)*t))\n",
    "    i = len(rankings) - j\n",
    "    k = len(rankings)\n",
    "    \n",
    "    #Mask and retrain\n",
    "    while k >= j:\n",
    "        #Mask\n",
    "        X_train.iloc[:, rankings[i:k]] = X_train.iloc[:, rankings[i:k]].mean()\n",
    "        x_test.iloc[:, rankings[i:k]] = x_test.iloc[:, rankings[i:k]].mean() \n",
    "            \n",
    "        #Retrain\n",
    "        model = train(clf, X_train, Y)\n",
    "        results =  np.hstack((results, metrics(model, x_test, y)))\n",
    "        \n",
    "        \n",
    "        #Move iterator forward\n",
    "        i -= j\n",
    "        k -= j\n",
    "\n",
    "    return results\n",
    "\n",
    "\n",
    "remove_bottom(0.10, ranks, X, Y, x, y, clf)"
   ]
  },
  {
   "cell_type": "code",
   "execution_count": 25,
   "id": "da6f7ece-808b-41cb-a8ad-eaebab03cd33",
   "metadata": {},
   "outputs": [
    {
     "data": {
      "text/plain": [
       "array([[6.17582057e-321, 9.45600000e-001, 9.31200000e-001,\n",
       "        9.16000000e-001, 9.10400000e-001, 8.91200000e-001,\n",
       "        8.80800000e-001, 8.81600000e-001, 8.40800000e-001,\n",
       "        8.28000000e-001, 8.63200000e-001],\n",
       "       [6.17582057e-321, 8.23314852e-001, 7.85446780e-001,\n",
       "        7.52036486e-001, 7.26647481e-001, 6.41708535e-001,\n",
       "        6.15999762e-001, 6.16463154e-001, 5.36236715e-001,\n",
       "        5.48507119e-001, 5.00000000e-001],\n",
       "       [6.17582057e-321, 7.67123288e-001, 6.99300699e-001,\n",
       "        6.31578947e-001, 5.91240876e-001, 4.28571429e-001,\n",
       "        3.65957447e-001, 3.67521368e-001, 1.67364017e-001,\n",
       "        2.06642066e-001, 0.00000000e+000]])"
      ]
     },
     "execution_count": 25,
     "metadata": {},
     "output_type": "execute_result"
    }
   ],
   "source": [
    "## Mask top features\n",
    "def remove_random(t, rankings, X, Y, x, y, clf, base = np.empty((3,1))):\n",
    "    \n",
    "    random_choices = np.random.choice(len(rankings), len(rankings), replace = False)\n",
    "\n",
    "    #Make copies of our data to modify\n",
    "    X_train = copy.deepcopy(X)\n",
    "    x_test = copy.deepcopy(x)\n",
    "    results = copy.deepcopy(base)\n",
    "    \n",
    "    #Set masking schedule\n",
    "    j = int(np.round(len(random_choices)*t))\n",
    "    i = 0\n",
    "    k = j\n",
    "    \n",
    "    #Mask and retrain\n",
    "    while k <= len(random_choices):\n",
    "        #Mask\n",
    "        X_train.iloc[:, random_choices[i:k]] = X_train.iloc[:, random_choices[i:k]].mean()\n",
    "        x_test.iloc[:, random_choices[i:k]] = x_test.iloc[:, random_choices[i:k]].mean() \n",
    "            \n",
    "        #Retrain\n",
    "        model = train(clf, X_train, Y)\n",
    "        results = np.hstack((results, metrics(model, x_test, y)))\n",
    "\n",
    "\n",
    "        #Move iterator forward\n",
    "        i += j\n",
    "        k += j\n",
    "\n",
    "    return results\n",
    "\n",
    "remove_random(0.10, ranks, X, Y, x, y, clf)"
   ]
  },
  {
   "cell_type": "code",
   "execution_count": 26,
   "id": "cf7b0cb9-c129-4cfd-a6ae-42ab15cdbe91",
   "metadata": {},
   "outputs": [],
   "source": [
    "def roar(X, Y, x, y, clf, explainer = shap.explainers.Permutation, t = 0.10, repeats = 10):\n",
    "    #Initialize the frames\n",
    "    model = train(clf, X, Y)\n",
    "    base = metrics(model, x, y)\n",
    "    #Initialize\n",
    "    ranks = explain(model, X, x, explainer)\n",
    "     \n",
    "    top = remove_top(t, ranks, X, Y, x, y, clf, base)\n",
    "    print(\"Top\")\n",
    "    bottom = remove_bottom(t, ranks, X, Y, x, y, clf, base)\n",
    "    print(\"Bottom\")\n",
    "    random = remove_bottom(t, ranks, X, Y, x, y, clf, base)\n",
    "    print(\"Random\")\n",
    "\n",
    "    #Set progress bar\n",
    "    mb = progress_bar(range(repeats - 1))\n",
    "    #Repeat x times\n",
    "    for i in mb:\n",
    "        ranks = explain(model, X, x, explainer)\n",
    "        top = np.dstack((top, remove_top(t, ranks, X, Y, x, y, clf, base)))\n",
    "        bottom = np.dstack((bottom, remove_bottom(t, ranks, X, Y, x, y, clf, base)))\n",
    "        random = np.dstack((random, remove_bottom(t, ranks, X, Y, x, y, clf, base)))\n",
    "    return np.array([top, bottom, random])"
   ]
  },
  {
   "cell_type": "code",
   "execution_count": 27,
   "id": "745400e3-d4e3-4ac2-bba6-4c9701c71c13",
   "metadata": {},
   "outputs": [
    {
     "name": "stderr",
     "output_type": "stream",
     "text": [
      " 98%|===================| 2451/2500 [00:25<00:00]        "
     ]
    },
    {
     "name": "stdout",
     "output_type": "stream",
     "text": [
      "Explained\n",
      "Top\n",
      "Bottom\n",
      "Random\n"
     ]
    },
    {
     "data": {
      "text/html": [
       "\n",
       "    <div>\n",
       "        <style>\n",
       "            /* Turns off some styling */\n",
       "            progress {\n",
       "                /* gets rid of default border in Firefox and Opera. */\n",
       "                border: none;\n",
       "                /* Needs to be in here for Safari polyfill so background images work as expected. */\n",
       "                background-size: auto;\n",
       "            }\n",
       "            .progress-bar-interrupted, .progress-bar-interrupted::-webkit-progress-bar {\n",
       "                background: #F44336;\n",
       "            }\n",
       "        </style>\n",
       "      <progress value='9' class='' max='9' style='width:300px; height:20px; vertical-align: middle;'></progress>\n",
       "      100.00% [9/9 05:08<00:00]\n",
       "    </div>\n",
       "    "
      ],
      "text/plain": [
       "<IPython.core.display.HTML object>"
      ]
     },
     "metadata": {},
     "output_type": "display_data"
    },
    {
     "name": "stderr",
     "output_type": "stream",
     "text": [
      " 99%|===================| 2463/2500 [00:25<00:00]        "
     ]
    }
   ],
   "source": [
    "test = roar(X, Y, x, y, clf = sklearn.ensemble.RandomForestClassifier(), explainer = shap.explainers.Tree, t = 0.10, repeats = 10)"
   ]
  },
  {
   "cell_type": "code",
   "execution_count": 60,
   "id": "d72061a5-42bf-422c-b715-f4b1728e9824",
   "metadata": {},
   "outputs": [
    {
     "name": "stdout",
     "output_type": "stream",
     "text": [
      "(3, 3, 11, 10)\n",
      "(3, 3, 10)\n",
      "[[8.24567273 6.99287495 5.74537706]\n",
      " [7.88218182 4.9853168  1.23576105]\n",
      " [7.88272727 4.98272479 1.22499091]]\n",
      "[-0.00054545  0.00259201  0.01077013]\n"
     ]
    },
    {
     "data": {
      "text/plain": [
       "array([-0.04408263, -0.28708624, -0.78491211])"
      ]
     },
     "execution_count": 60,
     "metadata": {},
     "output_type": "execute_result"
    }
   ],
   "source": [
    "#ROAR returns an array of the following shape (3, metrics, iterations, steps)\n",
    "#shape[0] is top, bottom, random\n",
    "#shape[1] is the surveyed metrics, in this case: accuracy, balanced accuracy, f1\n",
    "#shape[2] is the number of iterations ran\n",
    "#shape[3] is the # of steps that had to be done to mask all of the features\n",
    "print(test.shape)\n",
    "\n",
    "#np.mean(roar_results, axis = 2) returns the average scores over all repeats.\n",
    "print(np.mean(test, axis = 2).shape)\n",
    "\n",
    "results_mean = np.mean(test, axis = 2)\n",
    "auc = np.trapz(results_mean)\n",
    "print(auc)\n",
    "diff = auc[1] - auc[2]\n",
    "print(diff)\n",
    "\n",
    "\n",
    "\n"
   ]
  },
  {
   "cell_type": "code",
   "execution_count": 61,
   "id": "d283e9b8",
   "metadata": {},
   "outputs": [],
   "source": [
    "#Returns the ROAR score for each value\n",
    "def roar_score(results):\n",
    "    results_mean = np.mean(test, axis = 2)\n",
    "    auc = np.trapz(results_mean)\n",
    "    score = np.where(auc[1] - auc[0] < 0,  (auc[1] - auc[0])/auc[0], (auc[1] - auc[0])/auc[1] )\n",
    "    return score"
   ]
  },
  {
   "cell_type": "code",
   "execution_count": 62,
   "id": "d6fda6b0",
   "metadata": {},
   "outputs": [
    {
     "data": {
      "text/plain": [
       "array([-0.04408263, -0.28708624, -0.78491211])"
      ]
     },
     "execution_count": 62,
     "metadata": {},
     "output_type": "execute_result"
    }
   ],
   "source": [
    "roar_score(test)"
   ]
  }
 ],
 "metadata": {
  "kernelspec": {
   "display_name": "Python 3 (ipykernel)",
   "language": "python",
   "name": "python3"
  },
  "language_info": {
   "codemirror_mode": {
    "name": "ipython",
    "version": 3
   },
   "file_extension": ".py",
   "mimetype": "text/x-python",
   "name": "python",
   "nbconvert_exporter": "python",
   "pygments_lexer": "ipython3",
   "version": "3.8.11"
  }
 },
 "nbformat": 4,
 "nbformat_minor": 5
}
